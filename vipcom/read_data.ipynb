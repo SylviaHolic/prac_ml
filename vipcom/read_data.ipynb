{
 "cells": [
  {
   "cell_type": "code",
   "execution_count": 4,
   "metadata": {
    "collapsed": true
   },
   "outputs": [],
   "source": [
    "import pandas as pd\n",
    "import numpy as np\n",
    "import csv\n",
    "import os\n",
    "import matplotlib\n",
    "import matplotlib.pyplot as plt\n",
    "%matplotlib inline\n",
    "import pickle"
   ]
  },
  {
   "cell_type": "code",
   "execution_count": 11,
   "metadata": {
    "collapsed": false
   },
   "outputs": [
    {
     "name": "stdout",
     "output_type": "stream",
     "text": [
      "(20, 4)\n"
     ]
    }
   ],
   "source": [
    "goods_path = './goods_train_s.txt'\n",
    "user_path = './user_action_train_s.txt'\n",
    "item_header = ['spu_id','brand_id','cat_id']\n",
    "df_item = pd.read_csv(goods_path, sep='\\t',names=item_header)\n",
    "\n",
    "user_header = ['uid','spu_id','action','date']\n",
    "df_user = pd.read_csv(user_path, sep='\\t', names=user_header)\n",
    "print df_user.shape\n"
   ]
  },
  {
   "cell_type": "code",
   "execution_count": 12,
   "metadata": {
    "collapsed": false
   },
   "outputs": [
    {
     "name": "stdout",
     "output_type": "stream",
     "text": [
      "     spu_id  brand_id  cat_id\n",
      "0    621837  10010304     297\n",
      "1   1698431  10012546     271\n",
      "2    653495  10026906    1056\n",
      "3   1426380  10012968     297\n",
      "4    200496  10004565    1056\n",
      "5   1500338  10000601     337\n",
      "6    780216  10003869     680\n",
      "7     12596  10011609     311\n",
      "8   1157816  10000445     337\n",
      "9     12596  10001310     311\n",
      "10  1227567  10003640     271\n",
      "11  2036183  10015719   28008\n",
      "12  1293088  10013692   28006\n",
      "13  1940534  10003430     311\n",
      "14   854265  10000223    1056\n",
      "15  1731056  10015162   28007\n",
      "16   704098  10005670     311\n",
      "17  1770522  10004553   28007\n",
      "18   549476  10014937     311\n",
      "19      NaN  10001372     311\n",
      "(20, 3)\n",
      "19\n"
     ]
    }
   ],
   "source": [
    "print df_item\n",
    "n1 = df_item['spu_id'].dropna()#,df_item.count('brand_id'),df_item.count('cat_id')\n",
    "print df_item.shape\n",
    "print len(n1)"
   ]
  },
  {
   "cell_type": "code",
   "execution_count": 15,
   "metadata": {
    "collapsed": false
   },
   "outputs": [
    {
     "name": "stdout",
     "output_type": "stream",
     "text": [
      "     spu_id  brand_id  cat_id\n",
      "0    621837  10010304     297\n",
      "1   1698431  10012546     271\n",
      "2    653495  10026906    1056\n",
      "3   1426380  10012968     297\n",
      "4    200496  10004565    1056\n",
      "5   1500338  10000601     337\n",
      "6    780216  10003869     680\n",
      "7     12596  10011609     311\n",
      "8   1157816  10000445     337\n",
      "9     12596  10001310     311\n",
      "10  1227567  10003640     271\n",
      "11  2036183  10015719   28008\n",
      "12  1293088  10013692   28006\n",
      "13  1940534  10003430     311\n",
      "14   854265  10000223    1056\n",
      "15  1731056  10015162   28007\n",
      "16   704098  10005670     311\n",
      "17  1770522  10004553   28007\n",
      "18   549476  10014937     311\n",
      "19      NaN  10001372     311 (20, 3)\n"
     ]
    }
   ],
   "source": [
    "df_item = df_item.drop_duplicates()\n",
    "print df_item,df_item.shape"
   ]
  },
  {
   "cell_type": "code",
   "execution_count": null,
   "metadata": {
    "collapsed": true
   },
   "outputs": [],
   "source": []
  }
 ],
 "metadata": {
  "kernelspec": {
   "display_name": "Python 2",
   "language": "python",
   "name": "python2"
  },
  "language_info": {
   "codemirror_mode": {
    "name": "ipython",
    "version": 2
   },
   "file_extension": ".py",
   "mimetype": "text/x-python",
   "name": "python",
   "nbconvert_exporter": "python",
   "pygments_lexer": "ipython2",
   "version": "2.7.6"
  }
 },
 "nbformat": 4,
 "nbformat_minor": 2
}
